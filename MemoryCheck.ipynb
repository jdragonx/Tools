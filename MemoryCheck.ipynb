{
 "cells": [
  {
   "cell_type": "code",
   "execution_count": null,
   "id": "c71ba66f",
   "metadata": {
    "scrolled": false
   },
   "outputs": [],
   "source": [
    "import os, psutil, signal\n",
    "while True:\n",
    "    for proc in psutil.process_iter():\n",
    "        try:\n",
    "            # Get process name & pid from process object.\n",
    "            processName = proc.name()\n",
    "            processID = proc.pid\n",
    "            if(\"python\" in processName):\n",
    "                process = psutil.Process(processID)\n",
    "                mem = process.memory_info().rss/1e9\n",
    "                if(mem > 25):\n",
    "                    os.kill(processID,signal.SIGTERM)\n",
    "        except (psutil.NoSuchProcess, psutil.AccessDenied, psutil.ZombieProcess):\n",
    "            pass"
   ]
  }
 ],
 "metadata": {
  "kernelspec": {
   "display_name": "Python 3",
   "language": "python",
   "name": "python3"
  },
  "language_info": {
   "codemirror_mode": {
    "name": "ipython",
    "version": 3
   },
   "file_extension": ".py",
   "mimetype": "text/x-python",
   "name": "python",
   "nbconvert_exporter": "python",
   "pygments_lexer": "ipython3",
   "version": "3.7.6"
  }
 },
 "nbformat": 4,
 "nbformat_minor": 5
}
